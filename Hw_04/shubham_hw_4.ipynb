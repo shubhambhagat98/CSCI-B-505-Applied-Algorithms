{
 "cells": [
  {
   "cell_type": "markdown",
   "id": "38f93013",
   "metadata": {},
   "source": [
    "# Applied  Algorithms HW - 4\n",
    "\n",
    "## Name: Shubham Narendra Bhagat\n",
    "## Username: snbhagat\n",
    "\n",
    "**All Work done here is solely mine**\n",
    "\n"
   ]
  },
  {
   "attachments": {},
   "cell_type": "markdown",
   "id": "e79ac82d",
   "metadata": {},
   "source": [
    "***\n",
    "## Problem 1: Algorithm Design 1\n",
    "#### Suppose you are given two sequences D1 and D2 of n elements, possibly containing duplicates, on which a total order relation is defined. Describe an efficient algorithm for determining if D1 and D2 contain the same set of elements. What is the running time of this method?\n",
    "\n",
    "- First, I coverted list l1, l2 in set s2, s2 to get unique set of elements.\n",
    "- Then I compared two sets. If both sets are equal, it would mean that list l1, l2 have same set of elements.\n",
    "- Otherwise, list l1, l2 have differents sets of elements\n",
    "\n",
    "\n",
    "### Pseudo-code \n",
    "\n",
    ">**Input:** L1 & L2, unsorted sequences  \n",
    ">**Output:** True if L1 & L2 contain the same set of elements  \n",
    ">S1 = set(L1)  \n",
    ">S2 = set(L2) \n",
    ">\n",
    ">**if** S1 == S2:  \n",
    ">&emsp;Both lists contain same set of elements  \n",
    ">**else:**      \n",
    ">&emsp;Both lists do not cotain same set of elements\n",
    "\n",
    "- When we covert list to set, it takes n iterations and for comparing two sets, internally python takes n iterations.\n",
    "- So, the runtime of this algorithm becomes - n+n+n = 3n\n",
    "- Thus, asymptotically runtime of this algorithm is **O(n)**\n"
   ]
  },
  {
   "cell_type": "code",
   "execution_count": 1,
   "id": "ed6efd9e",
   "metadata": {},
   "outputs": [],
   "source": [
    "def check(l1,l2):\n",
    "    print(\"set of elements in list 1: \", set(l1))\n",
    "    print(\"set of elements in list 2: \", set(l2))\n",
    "    if set(l1) == set(l2):\n",
    "        print(\"Both lists contain same set of elements\")\n",
    "    else:\n",
    "        print(\"Both lists do not cotain same set of elements\")\n"
   ]
  },
  {
   "cell_type": "code",
   "execution_count": 4,
   "id": "e7c945e8",
   "metadata": {},
   "outputs": [
    {
     "name": "stdout",
     "output_type": "stream",
     "text": [
      "list 1:  [3, 4, 4, 5, 6, 7, 8, 9]\n",
      "list 2:  [2, 3, 4, 8, 9, 5, 6, 7]\n",
      "set of elements in list 1:  {3, 4, 5, 6, 7, 8, 9}\n",
      "set of elements in list 2:  {2, 3, 4, 5, 6, 7, 8, 9}\n",
      "Both lists do not cotain same set of elements\n"
     ]
    }
   ],
   "source": [
    "l1 = [3,4,4,5,6,7,8,9]\n",
    "l2 = [2,3,4,8,9,5,6,7]\n",
    "print(\"list 1: \", l1)\n",
    "print(\"list 2: \", l2)\n",
    "check(l1,l2)"
   ]
  },
  {
   "cell_type": "code",
   "execution_count": 5,
   "id": "c30ae02f",
   "metadata": {},
   "outputs": [
    {
     "name": "stdout",
     "output_type": "stream",
     "text": [
      "list 1:  [2, 3, 4, 5, 6, 7, 8, 9]\n",
      "list 2:  [2, 3, 3, 3, 4, 4, 2, 7, 8, 9, 5, 6, 7]\n",
      "set of elements in list 1:  {2, 3, 4, 5, 6, 7, 8, 9}\n",
      "set of elements in list 2:  {2, 3, 4, 5, 6, 7, 8, 9}\n",
      "Both lists contain same set of elements\n"
     ]
    }
   ],
   "source": [
    "l1 = [2,3,4,5,6,7,8,9]\n",
    "l2 = [2,3,3,3,4,4,2,7,8,9,5,6,7]\n",
    "print(\"list 1: \", l1)\n",
    "print(\"list 2: \", l2)\n",
    "check(l1,l2)"
   ]
  },
  {
   "attachments": {},
   "cell_type": "markdown",
   "id": "13448c1d",
   "metadata": {},
   "source": [
    "***\n",
    "## Problem 2: Algorithm Design 2\n",
    "### Given an array D of n integers in the range [0, n<sup>2</sup>− 1], describe a simple method for sorting D in O(n) time.\n",
    "\n",
    "### Part 1:\n",
    "- Normally, the complexity of radix sort is **O(d * (n + b))** time where **d** is the number of digits in the maximum element of the sequence and **b** is the base. For decimal numbers, base is 10.\n",
    "- if n is ***sufficiently larger*** than d, the runtime becomes **O(n)**. Consider below example:\n",
    ">Say for sequence of n numbers where **n<=1000000**, largest number in sequence  is **3654** ( ie: d = 4, n<=1000000 ), the runtime is dependent on the value of n. Hence we can say the the runtime for this example is **O(n)**. *( we can ignore 'b' because b is 10 . i.e: b is constant )*.\n",
    "- However, when **d is larger than n**, the **runtime is bound by value of d**. Consider below example:\n",
    ">Say we have a list  [ 10, 356, 123456789 ].Here, n= 3 and d = 9. Thus, even is n is 3, runtime is bound(dependent) by d. Therefore the runtime becomes **O(d(n))**.  *( We can ignore 'b' because b is 10 . i.e: b is constant )*.\n",
    "\n",
    "### Part 2:\n",
    "- For the given question, we have a constraint that if list has n elements, the numbers can be in range 0 to n<sup>2</sup>-1.\n",
    "- For n = 100, the maximum element in the list would be 100<sup>2</sup>-1 = 9999. Thus, the value of d for the given condition would be 4. This is equivalent to log<sub>10</sub>(n<sup>2</sup>-1) = log<sub>10</sub>(9999) = 3.99999 **≈ 4** \n",
    "- Now, log<sub>10</sub>(10000) = 4 and log<sub>10</sub>(9999) = 3.99999. Thus, when n is **sufficiently large**, we can say that log<sub>10</sub>(n<sup>2</sup>-1) ≈ log<sub>10</sub>(n<sup>2</sup>). \n",
    ">Thus **d ≈ log<sub>10</sub>(n<sup>2</sup>).**    \n",
    "> log<sub>10</sub>(n<sup>2</sup>) = 2log<sub>10</sub>(n). \n",
    "> Hence d ≈ 2log<sub>10</sub>(n)  ≈  O(log<sub>10</sub>(n))\n",
    "- Therefore the rutime of Radix sort becomes **O(log<sub>b</sub>(n) * (n + b))**.\n",
    "- Now we know that  log<sub>n</sub>(n) = 1 and n+n = 2n ≈ O(n). Thus we can make the runtime complexity as linear by taking **b ( base ) = n.**\n",
    "- Thus, If b = n, O(log<sub>n</sub>(n) * (n + n)) = O(1 * (2n)) = **O(n)**.\n",
    "- Thus taking the base **b as n** we can sort n integers in range [0,n<sup>2</sup>-1] in runtime O(n)\n",
    "- Reference: https://www.hackerearth.com/practice/notes/radix-sort/\n",
    "\n",
    "<br>\n",
    "### Psuedocode:\n",
    "\n",
    "**ALGORITHM 1: RADIX SORT**\n",
    ">**Input:** D, unsorted sequence of length n  \n",
    ">**Output:** sorted D  \n",
    ">D = counting(D, len(D), 1)  \n",
    ">D = counting(D, len(D), len(D))  \n",
    ">  \n",
    ">return D\n",
    "\n",
    "**ALGORITHM 2: COUNTING SORT**  \n",
    ">**Input:** D, unsorted sequence of length n; len(D); zeros    \n",
    ">**Output:** partially sorted D  \n",
    ">input_length = len(D)  \n",
    ">B=[0] * input_length  \n",
    ">C=[0] * input_length  \n",
    ">digit=[]  \n",
    ">for i = 0 → input_length do  \n",
    ">     &emsp;insert (A[i] // exp % input_length) into digit[i]  \n",
    ">end  \n",
    ">for i = 0 → input_length do  \n",
    ">    &emsp;C[digit[i]]+=1  \n",
    ">end   \n",
    ">for i = 1 → input_length do  \n",
    ">     &emsp;C[i] = C[i-1]+C[i]  \n",
    ">end  \n",
    ">for i = input_length downto 1 do  \n",
    ">     &emsp;B[C[digit[j]]-1] = A[j]  \n",
    ">     &emsp;C[digit[j]] = C[digit[j]]-1  \n",
    ">return B  \n",
    "\n"
   ]
  },
  {
   "cell_type": "code",
   "execution_count": 3,
   "id": "ade80627",
   "metadata": {},
   "outputs": [
    {
     "name": "stdout",
     "output_type": "stream",
     "text": [
      "original array:  [40, 12, 45, 32, 33, 1, 22, 86, 100, 92, 120]\n",
      "sorted array:  [1, 12, 22, 32, 33, 40, 45, 86, 92, 100, 120]\n"
     ]
    }
   ],
   "source": [
    "def countSort(A,base,exp):\n",
    "    # make digit array\n",
    "    D = []\n",
    "    for x in range(len(A)):\n",
    "        # D.append(A[x]//10**i%10)\n",
    "        D.append(A[x]//exp%base)\n",
    "\n",
    "    B = [0 for k in range(len(A))]\n",
    "    # C = [0 for j in range(max(D)+1)]\n",
    "    C = [0 for j in range(len(A))]\n",
    "\n",
    "\n",
    "    # initial count\n",
    "    for x in D:\n",
    "        C[x] += 1\n",
    "\n",
    "    # cummulative sum\n",
    "    for x in range(1, len(C)):\n",
    "        C[x] += C[x-1]\n",
    "\n",
    "    # actual sorting\n",
    "    for i in range(len(A)-1,-1,-1):\n",
    "        B[C[D[i]]-1] = A[i]\n",
    "        C[D[i]] -= 1\n",
    "    return B\n",
    "\n",
    "def radixSort(A):\n",
    "    # for i in range(len(str(max(A)))):\n",
    "    #     A = countSort(A,i)\n",
    "\n",
    "    A = countSort(A,len(A),1)\n",
    "    A= countSort(A, len(A), len(A))\n",
    "    return A\n",
    "\n",
    "\n",
    "A = [40, 12, 45, 32, 33, 1, 22, 86, 100, 92, 120]\n",
    "print(\"original array: \",A)\n",
    "result = radixSort(A)\n",
    "print(\"sorted array: \",result)\n"
   ]
  },
  {
   "attachments": {},
   "cell_type": "markdown",
   "id": "6bfd9588",
   "metadata": {},
   "source": [
    "## Problem 3: Algorithm Design 3\n",
    "\n",
    "### Given a sequence D of n elements, on which a total order relation is defined, describe an efficient method for determining whether there are two equal elements in D. What is the running time of your method?\n",
    "\n",
    "\n",
    "- First, I created a new set from list l1\n",
    "- Thene I compared the length if list l1 with set l2\n",
    "- The list to set coversion would remove duplicates from the list. Hence, if there were no duplicates in list l1, the number of elements in list l1 ans set l2 would be the same.\n",
    "- Otherwise, the number of elements in list l1 ans set l2 would be different.\n",
    "\n",
    "### Psuedocode:  \n",
    "\n",
    ">**Input:** D,  an unsorted sequence  \n",
    ">**Output:** True if there are two equal elements in D    \n",
    ">l2 = set(l1)    \n",
    ">if len(l1) == len(l2):  \n",
    ">&emsp;\tContains no two equal elements  \n",
    ">else:  \n",
    ">&emsp;\tContain two equal elements  \n",
    "\n",
    "- list to set coversion takes n iterations, therefore runtime of the this algotithm is **O(n)**\n"
   ]
  },
  {
   "cell_type": "code",
   "execution_count": 4,
   "id": "0d04c424",
   "metadata": {},
   "outputs": [
    {
     "name": "stdout",
     "output_type": "stream",
     "text": [
      "There are duplicate elements in the list\n"
     ]
    }
   ],
   "source": [
    "l1 = [3,4,4,5,6,7,8,9]\n",
    "l2 = set(l1)\n",
    "\n",
    "if len(l1)==len(l2):\n",
    "    print(\"There are no duplicate elements in the list\")\n",
    "else:\n",
    "    print(\"There are duplicate elements in the list\")\n",
    "\n"
   ]
  },
  {
   "cell_type": "markdown",
   "id": "8b9da327",
   "metadata": {},
   "source": [
    "## Problem 4: Merge-sort\n",
    "### Implement a bottom-up merge-sort for a collection of items by placing each item in its own queue, and then repeatedly merging pairs of queues until all items are sorted within a single queue.\n",
    "\n",
    "- In this we make sub queues for length size where size varies in power of 2.\n",
    "- Thus we start by sorting all sub queues of 1 element, then merge results into sub-queues of 2 elements, and then merge the result again into sub-queues of 4 elements and so on till our size of sub-queue is less than input array.\n",
    "- Likewise, we perform successive merges until the array is completely sorted.\n",
    "- For each iteration of size, we call merge on log(n) elements and since merge is a linear function the overall runtime complexity of this algorithm becomes **O(nlogn)**\n"
   ]
  },
  {
   "cell_type": "code",
   "execution_count": 8,
   "id": "d0782bab",
   "metadata": {},
   "outputs": [
    {
     "name": "stdout",
     "output_type": "stream",
     "text": [
      "original array:  [23, 4, 56, 2, 21, 2, 9, 11]\n",
      "sorted array:  [2, 2, 4, 9, 11, 21, 23, 56]\n"
     ]
    }
   ],
   "source": [
    "def merge(A, temp, size):\n",
    "    q1 = []\n",
    "    q2 = []\n",
    "    if len(A) < size:\n",
    "        size = len(A)\n",
    "    \n",
    "    for i in range(1, size+1):\n",
    "        if (len(A) !=0):\n",
    "            q1.append(A.pop(0))\n",
    "\n",
    "    if len(A) < size:\n",
    "        size = len(A)\n",
    "    \n",
    "    for i in range(1, size+1):\n",
    "        if len(A) !=0:\n",
    "            q2.append(A.pop(0))\n",
    "\n",
    "    while (len(q1) !=0 and len(q2) != 0):\n",
    "        if (q1[0]<q2[0]):\n",
    "            temp.append(q1.pop(0))\n",
    "        else:\n",
    "            temp.append(q2.pop(0))\n",
    "    while (len(q1) !=0 ):\n",
    "            temp.append(q1.pop(0))\n",
    "\n",
    "    while (len(q2) !=0 ):\n",
    "            temp.append(q2.pop(0))\n",
    "\n",
    "def mergeSort(A):\n",
    "    temp = []\n",
    "    size = 1\n",
    "    n = len(A)\n",
    "\n",
    "    while size < n:\n",
    "        while len(temp) !=  n:\n",
    "            merge(A, temp, size)\n",
    "        A = A + temp\n",
    "        temp.clear()\n",
    "        size = size *2\n",
    "    return A\n",
    "\n",
    "A = [23, 4, 56, 2, 21, 2, 9, 11 ]\n",
    "print(\"original array: \", A)\n",
    "print(\"sorted array: \",mergeSort(A))\n",
    "\n"
   ]
  },
  {
   "cell_type": "markdown",
   "id": "b13ab028",
   "metadata": {},
   "source": [
    "## Problem 5: Heap Sort\n",
    "### Implement the heap-sort algorithm given in algorithm 1. The max_heapify and build_max_heap procedures are described in algorithm 2 and algorithm 3, respectively.\n",
    "\n",
    " \n",
    "**Algorithm 1: Max heapify**\n",
    "- Max heapify method is used to maintain the property of heap where thr root node contains the largest element.\n",
    "- Every time we perform insertion or deletion on our heap, the heap property is violated.\n",
    "- Max heapify makes sure that after every insertion or deletion from the heap, we can maintain the heap structure just by calling the max heapfiy method\n",
    "- It follow some rules:\n",
    "    - If a parent is on index i, it's left child is on index 2 * i+1 and right child on 2 * i+2. \n",
    "    - Here we maintain a pointer called 'largest' which points to the index of largest number among parent and its childeren.\n",
    "    - We compare the parent with it's children, and the value of child having largest value than parent gets stored at parent node. Here the pointer - 'largest' points to that index of largest child. Then we again call max heapify by taking largest as the parent node to ensure max heap property is followed.\n",
    "    \n",
    "\n",
    "**Algorithm 2: Build Heap**\n",
    "- Build heap method is used to convert the given sequence, which is essentially a list, into Max heap.\n",
    "- It calls the Max-heapify method which takes as input the array, and the heapsize(basically array size)\n",
    "- It returns heapified version of original array on which sorting is performed.\n",
    "\n",
    "**Algorithm 3: Heap Sort**\n",
    "- This method the first step is to swap root node and last element of the heap. After this step the largest element is positioned at the last index.\n",
    "- Now we decrement the length of heap by 1 and call max heapify on it.\n",
    "- in Successive iteration, secong largest element gets positioned at the second last index and so on.\n",
    "- Finally after all the iterations are over, we get our sorted array.\n",
    "- The worst case time complexity of Heap Sort is **O(nlogn)**.\n",
    "- That is because the time complexity of Max-heapify is O(n) and this method is called **log(n)** times, hence the complexity **O(nlogn)** in the worst case."
   ]
  },
  {
   "cell_type": "code",
   "execution_count": 9,
   "id": "9ee73588",
   "metadata": {},
   "outputs": [
    {
     "name": "stdout",
     "output_type": "stream",
     "text": [
      "Initial array:  [4, 1, 3, 2, 16, 9, 10, 14, 8, 7]\n",
      "sorted array:  [1, 2, 3, 4, 7, 8, 9, 10, 14, 16]\n"
     ]
    }
   ],
   "source": [
    "def max_heapify(arr, n, i):\n",
    "    l = 2*i+1\n",
    "    r = 2*i+2\n",
    "\n",
    "    if l < n and arr[l] > arr[i]:\n",
    "        largest = l\n",
    "    else:\n",
    "        largest = i\n",
    "\n",
    "    if r < n and arr[r] > arr[largest]:\n",
    "        largest = r \n",
    "    \n",
    "    # swaping required\n",
    "    if largest != i:\n",
    "        arr[i], arr[largest] = arr[largest], arr[i]\n",
    "        max_heapify(arr, n, largest)\n",
    "\n",
    "def build_heap(arr):\n",
    "    n = len(arr)\n",
    "    for i in range(n//2-1, -1, -1):\n",
    "        max_heapify(arr, n, i)\n",
    "\n",
    "\n",
    "def heapSort(arr):\n",
    "    # build heap\n",
    "    build_heap(arr)\n",
    "\n",
    "    n = len(arr)\n",
    "    # actual sorting\n",
    "    for i in range(n-1, 0, -1):\n",
    "        arr[i], arr[0] = arr[0], arr[i]\n",
    "        max_heapify(arr, i, 0)\n",
    "\n",
    "arr = [4,1,3,2,16,9,10,14,8,7]\n",
    "print(\"Initial array: \",arr)\n",
    "heapSort(arr)\n",
    "print(\"sorted array: \",arr)\n"
   ]
  },
  {
   "cell_type": "markdown",
   "id": "0ff0ca55",
   "metadata": {},
   "source": [
    "## Problem 6: Counting Sort\n",
    "\n",
    "- In the Counting sort algorithm, we consider 3 lists; \n",
    "    - A is the input sequence,\n",
    "    - B is our output sequence\n",
    "    - C is the counting list.\n",
    "- We calculate the count of occurence of each element in A and store it at the appropriate index in C. Suppose element '2' appears 4 times in A, then C[2] will be 4 and so on.\n",
    "- We the calculate the cumulative of these counts and store it again in C. A cummulative sum at any index in C tells us how many elements will be there in sorted array - B before that index.\n",
    "- Finally, in the last for loop, We traverse the list A from the last element. The element 'x' in A tells us which index should we look in count array C. The element at that index in C, tells us the index in output array B where we should store element 'x' of A.\n",
    "- Then we decrement the count for that element by 1 in the count array C.\n",
    "- After the final iteration, we get our sorted list B.\n",
    "- Worst case time complexity for Counting sort is **O(n + k)** where k is the length of our counting array ie. k is max(A)"
   ]
  },
  {
   "cell_type": "code",
   "execution_count": 11,
   "id": "381aefc3",
   "metadata": {},
   "outputs": [
    {
     "name": "stdout",
     "output_type": "stream",
     "text": [
      "original array:  [2, 4, 5, 5, 2, 2, 12, 1]\n",
      "sorted array:  [1, 2, 2, 2, 4, 5, 5, 12]\n"
     ]
    }
   ],
   "source": [
    "def countSort(A):\n",
    "    B = [0 for i in range(len(A))]\n",
    "    C = [0 for i in range(max(A)+1)]\n",
    "\n",
    "\n",
    "    # initial count\n",
    "    for x in A:\n",
    "        C[x] += 1\n",
    "\n",
    "    # cummulative sum\n",
    "    for x in range(1, len(C)):\n",
    "        C[x] += C[x-1]\n",
    "\n",
    "\n",
    "    # actual sorting\n",
    "    for x in A[::-1]:\n",
    "        B[C[x]-1] = x\n",
    "        C[x] -= 1\n",
    "    return B\n",
    "\n",
    "\n",
    "A  = [2,4,5,5,2,2,12,1]\n",
    "print(\"original array: \",A)\n",
    "result = countSort(A)\n",
    "print(\"sorted array: \",result)\n"
   ]
  },
  {
   "cell_type": "markdown",
   "id": "39f1e26d",
   "metadata": {},
   "source": [
    "## Problem 7: Bucket Sort\n",
    "\n",
    "- For the given algorithm, the number of buckets is equal to the length of input array\n",
    "- Hash function - **floor(A[i] * input_length)** gives us the index of bucket where we should store an element of input array.\n",
    "- I have modifed the algorithm slightly, wherein if the index value given by the hash function is greater than number of buckets, I am storing that input element in the last bucket.\n",
    "- Going further, we apply insertion sort on each bucket to sort the elements in that bucket. Then one by one, we append elements of each bucket from first bucket to last and append it to the result array.\n",
    "- Finally, we return the result array.\n",
    "- When elements are uniformly distributed in the buckets, the runtime of bucket sort becomes **O(n)**. And the worst case time complexity for Bucket Sort is **O(n<sup>2</sup>)**"
   ]
  },
  {
   "cell_type": "code",
   "execution_count": 14,
   "id": "6b79899e",
   "metadata": {},
   "outputs": [
    {
     "name": "stdout",
     "output_type": "stream",
     "text": [
      "original array:  [0.78, 0.21, 0.39, 0.26, 2, 9, 21, 1000, 0.72, 0.94, 0.17, 0.12]\n",
      "sorted array:  [0.12, 0.17, 0.21, 0.26, 0.39, 0.72, 0.78, 0.94, 2, 9, 21, 1000]\n"
     ]
    }
   ],
   "source": [
    "import math\n",
    "def insertionSort(arr):\n",
    "    for i in range(1,len(arr)):\n",
    "        key = arr[i]\n",
    "        j = i-1\n",
    "        while j>=0 and key < arr[j]:\n",
    "            arr[j+1] = arr[j]\n",
    "            j -= 1\n",
    "        arr[j+1] = key\n",
    "    return arr\n",
    "\n",
    "def bucketSort(arr):\n",
    "    B = [[] for i in range(len(arr))]\n",
    "    result = []\n",
    "\n",
    "    for x in arr:\n",
    "        index = math.floor(x*len(arr))\n",
    "        if index < len(B):\n",
    "            B[index].append(x)\n",
    "        else:\n",
    "            B[-1].append(x)\n",
    "\n",
    "    for y in B:\n",
    "        result += insertionSort(y)\n",
    "    \n",
    "    return result\n",
    "\n",
    "arr = [0.78, 0.21, 0.39, 0.26,2,9,21,1000, 0.72, 0.94, 0.17, 0.12]\n",
    "result = bucketSort(arr)\n",
    "print(\"original array: \",arr)\n",
    "print(\"sorted array: \",result)\n"
   ]
  },
  {
   "cell_type": "code",
   "execution_count": null,
   "id": "57e59a49",
   "metadata": {},
   "outputs": [],
   "source": []
  }
 ],
 "metadata": {
  "kernelspec": {
   "display_name": "Python 3",
   "language": "python",
   "name": "python3"
  },
  "language_info": {
   "codemirror_mode": {
    "name": "ipython",
    "version": 3
   },
   "file_extension": ".py",
   "mimetype": "text/x-python",
   "name": "python",
   "nbconvert_exporter": "python",
   "pygments_lexer": "ipython3",
   "version": "3.8.8"
  }
 },
 "nbformat": 4,
 "nbformat_minor": 5
}
