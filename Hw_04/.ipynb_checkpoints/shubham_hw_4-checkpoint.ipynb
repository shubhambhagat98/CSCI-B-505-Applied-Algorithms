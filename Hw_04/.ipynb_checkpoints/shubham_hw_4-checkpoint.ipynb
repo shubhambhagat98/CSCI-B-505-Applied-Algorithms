{
 "cells": [
  {
   "cell_type": "markdown",
   "id": "38f93013",
   "metadata": {},
   "source": [
    "# Applied  Algorithms HW - 3\n",
    "\n",
    "## Name: Shubham Narendra Bhagat\n",
    "## Username: snbhagat\n",
    "\n"
   ]
  },
  {
   "attachments": {},
   "cell_type": "markdown",
   "id": "e79ac82d",
   "metadata": {},
   "source": [
    "***\n",
    "## Problem 1: Algorithm Design 1\n",
    "#### Suppose you are given two sequences D1 and D2 of n elements, possibly containing duplicates, on which a total order relation is defined. Describe an efficient algorithm for determining if D1 and D2 contain the same set of elements. What is the running time of this method?\n",
    "\n",
    "\n",
    "\n",
    "### Pseudo-code \n",
    "\n",
    ">**Input:** L1 & L2, unsorted sequences  \n",
    ">**Output:** True if L1 & L2 contain the same set of elements  \n",
    ">S1 = set(L1)  \n",
    ">S2 = set(L2) \n",
    ">\n",
    ">**if** S1 == S2:  \n",
    ">&emsp;Both lists contain same set of elements  \n",
    ">**else:**      \n",
    ">&emsp;Both lists do not cotain same set of elements\n",
    "\n",
    "- When we covert list to set, it takes n iterations and for comparing two sets, internally python takes n iterations.\n",
    "- So, the runtime of this algorithm becomes - n+n+n = 3n\n",
    "- Thus, asymptotically runtime of this algorithm is **O(n)**\n"
   ]
  },
  {
   "cell_type": "code",
   "execution_count": 1,
   "id": "ed6efd9e",
   "metadata": {},
   "outputs": [],
   "source": [
    "def check(l1,l2):\n",
    "    print(\"set of elements in list 1: \", set(l1))\n",
    "    print(\"set of elements in list 2: \", set(l2))\n",
    "    if set(l1) == set(l2):\n",
    "        print(\"Both lists contain same set of elements\")\n",
    "    else:\n",
    "        print(\"Both lists do not cotain same set of elements\")\n"
   ]
  },
  {
   "cell_type": "code",
   "execution_count": 4,
   "id": "e7c945e8",
   "metadata": {},
   "outputs": [
    {
     "name": "stdout",
     "output_type": "stream",
     "text": [
      "list 1:  [3, 4, 4, 5, 6, 7, 8, 9]\n",
      "list 2:  [2, 3, 4, 8, 9, 5, 6, 7]\n",
      "set of elements in list 1:  {3, 4, 5, 6, 7, 8, 9}\n",
      "set of elements in list 2:  {2, 3, 4, 5, 6, 7, 8, 9}\n",
      "Both lists do not cotain same set of elements\n"
     ]
    }
   ],
   "source": [
    "l1 = [3,4,4,5,6,7,8,9]\n",
    "l2 = [2,3,4,8,9,5,6,7]\n",
    "print(\"list 1: \", l1)\n",
    "print(\"list 2: \", l2)\n",
    "check(l1,l2)"
   ]
  },
  {
   "cell_type": "code",
   "execution_count": 5,
   "id": "c30ae02f",
   "metadata": {},
   "outputs": [
    {
     "name": "stdout",
     "output_type": "stream",
     "text": [
      "list 1:  [2, 3, 4, 5, 6, 7, 8, 9]\n",
      "list 2:  [2, 3, 3, 3, 4, 4, 2, 7, 8, 9, 5, 6, 7]\n",
      "set of elements in list 1:  {2, 3, 4, 5, 6, 7, 8, 9}\n",
      "set of elements in list 2:  {2, 3, 4, 5, 6, 7, 8, 9}\n",
      "Both lists contain same set of elements\n"
     ]
    }
   ],
   "source": [
    "l1 = [2,3,4,5,6,7,8,9]\n",
    "l2 = [2,3,3,3,4,4,2,7,8,9,5,6,7]\n",
    "print(\"list 1: \", l1)\n",
    "print(\"list 2: \", l2)\n",
    "check(l1,l2)"
   ]
  },
  {
   "attachments": {},
   "cell_type": "markdown",
   "id": "d4c040a1",
   "metadata": {},
   "source": [
    "***\n",
    "## Problem 2: Algorithm Design 2\n",
    "### Given an array D of n integers in the range [0, n<sup>2</sup>− 1], describe a simple method for sorting D in O(n) time.\n",
    "\n",
    "### Part 1:\n",
    "- Normally, the complexity of radix sort is **O(d * (n + b))** time where **d** is the number of digits in the maximum element of the sequence and **b** is the base. For decimal numbers, base is 10.\n",
    "- if n is ***sufficiently larger*** than d, the runtime becomes **O(n)**. Consider below example:\n",
    ">Say for sequence of n numbers where **n<=1000000**, largest number in sequence  is **3654** ( ie: d = 4, n<=1000000 ), the runtime is dependent on the value of n. Hence we can say the the runtime for this example is **O(n)**. *( we can ignore 'b' because b is 10 . i.e: b is constant )*.\n",
    "- However, when **d is larger than n**, the **runtime is bound by value of d**. Consider below example:\n",
    ">Say we have a list  [ 10, 356, 123456789 ].Here, n= 3 and d = 9. Thus, even is n is 3, runtime is bound(dependent) by d. Therefore the runtime becomes **O(d(n))**.  *( We can ignore 'b' because b is 10 . i.e: b is constant )*.\n",
    "\n",
    "### Part 2:\n",
    "- For the given question, we have a constraint that if list has n elements, the numbers can be in range 0 to n<sup>2</sup>-1.\n",
    "- For n = 100, the maximum element in the list would be 100<sup>2</sup>-1 = 9999. Thus, the value of d for the given condition would be 4. This is equivalent to log<sub>10</sub>(n<sup>2</sup>-1) = log<sub>10</sub>(9999) = 3.99999 **≈ 4** \n",
    "- Now, log<sub>10</sub>(10000) = 4 and log<sub>10</sub>(9999) = 3.99999. Thus, when n is **sufficiently large**, we can say that log<sub>10</sub>(n<sup>2</sup>-1) ≈ log<sub>10</sub>(n<sup>2</sup>). \n",
    ">Thus **d ≈ log<sub>10</sub>(n<sup>2</sup>).**    \n",
    "> log<sub>10</sub>(n<sup>2</sup>) = 2log<sub>10</sub>(n). \n",
    "> Hence d ≈ 2log<sub>10</sub>(n)  ≈  O(log<sub>10</sub>(n))\n",
    "- Therefore the rutime of Radix sort becomes **O(log<sub>b</sub>(n) * (n + b))**.\n",
    "- Now we know that  log<sub>n</sub>(n) = 1 and n+n = 2n ≈ O(n). Thus we can make the runtime complexity as linear by taking **b ( base ) = n.**\n",
    "- Thus, If b = n, O(log<sub>n</sub>(n) * (n + n)) = O(1 * (2n)) = **O(n)**.\n",
    "- Thus taking the base **b as n** we can sort n integers in range [0,n<sup>2</sup>-1] in runtime O(n)\n",
    "- Reference: https://www.hackerearth.com/practice/notes/radix-sort/\n",
    "\n",
    "<br>\n",
    "### Psuedocode:\n",
    "\n",
    "**ALGORITHM 1: RADIX SORT**\n",
    ">**Input:** D, unsorted sequence of length n  \n",
    ">**Output:** sorted D  \n",
    ">D = counting(D, len(D), 1)  \n",
    ">D = counting(D, len(D), len(D))  \n",
    ">  \n",
    ">return D\n",
    "\n",
    "**ALGORITHM 2: COUNTING SORT**\n",
    "Input: D, unsorted sequence of length n; len(D); zeros  \n",
    "Output: partially sorted D\n",
    "input_length = len(D)\n",
    "B=[0]input_length\n",
    "C=[0]input_length\n",
    "digit=[]\n",
    "for i = 0 → input_length do\n",
    "     insert (A[i]//zeros%input_length) into digit[i]\n",
    "end\n",
    "for i = 0 → input_length do\n",
    "   |  C[digit[i]]+=1\n",
    "end \n",
    "for i = 1 → input_length do\n",
    "   |  C[i] = C[i-1]+C[i]\n",
    "end\n",
    "for i = input_length downto 1 do\n",
    "   |  B[C[digit[j]]-1] = A[j]\n",
    "   |  C[digit[j]] = C[digit[j]]-1\n",
    "return B\n",
    "\n"
   ]
  },
  {
   "cell_type": "code",
   "execution_count": 3,
   "id": "c5c35b77",
   "metadata": {},
   "outputs": [
    {
     "name": "stdout",
     "output_type": "stream",
     "text": [
      "original array:  [40, 12, 45, 32, 33, 1, 22, 86, 100, 92, 120]\n",
      "sorted array:  [1, 12, 22, 32, 33, 40, 45, 86, 92, 100, 120]\n"
     ]
    }
   ],
   "source": [
    "def countSort(A,base,exp):\n",
    "    # make digit array\n",
    "    D = []\n",
    "    for x in range(len(A)):\n",
    "        # D.append(A[x]//10**i%10)\n",
    "        D.append(A[x]//exp%base)\n",
    "\n",
    "    B = [0 for k in range(len(A))]\n",
    "    # C = [0 for j in range(max(D)+1)]\n",
    "    C = [0 for j in range(len(A))]\n",
    "\n",
    "\n",
    "    # initial count\n",
    "    for x in D:\n",
    "        C[x] += 1\n",
    "\n",
    "    # cummulative sum\n",
    "    for x in range(1, len(C)):\n",
    "        C[x] += C[x-1]\n",
    "\n",
    "    # actual sorting\n",
    "    for i in range(len(A)-1,-1,-1):\n",
    "        B[C[D[i]]-1] = A[i]\n",
    "        C[D[i]] -= 1\n",
    "    return B\n",
    "\n",
    "def radixSort(A):\n",
    "    # for i in range(len(str(max(A)))):\n",
    "    #     A = countSort(A,i)\n",
    "\n",
    "    A = countSort(A,len(A),1)\n",
    "    A= countSort(A, len(A), len(A))\n",
    "    return A\n",
    "\n",
    "\n",
    "A = [40, 12, 45, 32, 33, 1, 22, 86, 100, 92, 120]\n",
    "print(\"original array: \",A)\n",
    "result = radixSort(A)\n",
    "print(\"sorted array: \",result)\n"
   ]
  },
  {
   "cell_type": "code",
   "execution_count": null,
   "id": "18053603",
   "metadata": {},
   "outputs": [],
   "source": []
  },
  {
   "cell_type": "markdown",
   "id": "36b24424",
   "metadata": {},
   "source": [
    "Sample MergeSort tree: \n",
    " \n",
    "       abcdefgh \n",
    "       /      \\ \n",
    "   adgh        bcef \n",
    "   /  \\        /  \\ \n",
    " gh    ad    bf    ce \n",
    " /\\    /\\    /\\    /\\ \n",
    "h  g  d  a  b  f  c  e \n"
   ]
  }
 ],
 "metadata": {
  "kernelspec": {
   "display_name": "Python 3",
   "language": "python",
   "name": "python3"
  },
  "language_info": {
   "codemirror_mode": {
    "name": "ipython",
    "version": 3
   },
   "file_extension": ".py",
   "mimetype": "text/x-python",
   "name": "python",
   "nbconvert_exporter": "python",
   "pygments_lexer": "ipython3",
   "version": "3.8.8"
  }
 },
 "nbformat": 4,
 "nbformat_minor": 5
}
