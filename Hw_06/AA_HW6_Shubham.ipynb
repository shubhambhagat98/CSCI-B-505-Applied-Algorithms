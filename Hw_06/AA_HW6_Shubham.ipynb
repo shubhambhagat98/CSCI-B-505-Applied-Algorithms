{
 "cells": [
  {
   "cell_type": "markdown",
   "metadata": {},
   "source": [
    "# Applied Algorithms - Home work 4\n",
    "\n",
    "## Name: Shubham Bhagat   Email: snbhagat@iu.edu   Username: snbhagat\n",
    "\n",
    "### Partner Name: Shubham Thakur\n",
    "\n",
    "### All the work herein is solely mine"
   ]
  },
  {
   "cell_type": "markdown",
   "metadata": {},
   "source": [
    "<hr>\n",
    "\n",
    "## Problem 1: Expectation-Maximization Algorithm for Clustering"
   ]
  },
  {
   "cell_type": "markdown",
   "metadata": {},
   "source": [
    "Implement expectation-maximization algorithm for Gaussian mixture models (see the EM algorithm below) in Python and call this program Gk. As you present your code explain your protocol\n",
    "for\n",
    "1. initializing each Gaussian\n",
    "2. deciding ties\n",
    "3. stopping criteria\n",
    "\n",
    "The expectation–maximization (EM) algorithm is an iterative approach for determining (local) maximum likelihood or maximum a posteriori (MAP) parameter estimates in statistical models with unobserved latent variables.\n",
    "- The EM iteration alternates between an expectation (E) step that constructs a function for the expected log-likelihood assessed using the current estimate for the parameters and a maximization (M) phase that computes parameters that maximize the expected log-likelihood discovered on the E step.\n",
    "- In the following E phase, these parameter estimates are utilized to calculate the distribution of the latent variables.\n",
    "- For the EM algorithm, we sicuss the following points:\n",
    "\n",
    "    1. **Initializing each Gaussian**:\n",
    "       We initialized the Gaussians by randomly picking datapoints from the given dataset. For visualization purposes, below are 3 gausians which are created by considering 3 random points as the initial means and it's respective co-variances. This is for a 1-dimensional dataset.\n",
    "       \n",
    "    2. **Deciding Ties**:\n",
    "       The ties or **likelihood** is calculated using the initialized means and co-variances, and for all the subsequent iterations the means an co-variances are updated in the maximization step.\n",
    "       \n",
    "    3. **Stopping Criteria**:\n",
    "       For the stopping criteria, we define an epsillon value which stops the EM algorithm whenever it converges.\n",
    "       \n",
    "       ∑<sup>k</sup><sub>i=1</sub> || µ<sub>i</sub><sup>t</sup> - µ<sub>i</sub><sup>t-1</sup> ||<sup>2</sup>\n",
    "       \n",
    "       When the differnece of previous and current means is less than epsillon"
   ]
  },
  {
   "cell_type": "code",
   "execution_count": 5,
   "metadata": {},
   "outputs": [],
   "source": [
    "import numpy as np\n",
    "import pandas as pd\n",
    "import seaborn as sns\n",
    "from scipy.stats import multivariate_normal\n",
    "from matplotlib import pyplot as plt\n",
    "import random\n",
    "from sklearn.metrics import mean_squared_error\n",
    "%matplotlib inline"
   ]
  },
  {
   "cell_type": "code",
   "execution_count": 6,
   "metadata": {},
   "outputs": [],
   "source": [
    "def em(D, k, eps):\n",
    "    \n",
    "    mu, cov_m, priors = [], [], []\n",
    "    n, d, t = len(D), len(D[0]), 0\n",
    "    \n",
    "    # Initialization of mu vectors, covariance matrices and priors\n",
    "    for _ in range(k):\n",
    "        random = np.random.randint(0, n)\n",
    "        mu_vector = D[random]\n",
    "        cov = np.identity(d)\n",
    "        mu.append(mu_vector)\n",
    "        cov_m.append(cov)\n",
    "        priors.append(1/k)\n",
    "    \n",
    "    mu = np.array(mu)\n",
    "    cov_m = np.array(cov_m)\n",
    "    priors = np.array(priors)\n",
    "    max_iter = 50\n",
    "    \n",
    "    while t < max_iter:\n",
    "        \n",
    "        original_mu = mu.copy()\n",
    "        t += 1\n",
    "        posteriors = []\n",
    "        \n",
    "         # Expectation step\n",
    "        for i in range(k):\n",
    "            likelihoods = np.array([multivariate_normal.pdf(D[j], mean = mu[i], cov = cov_m[i], allow_singular = True) for j in range(n)])\n",
    "            posterior = likelihoods * priors[i]\n",
    "            posteriors.append(posterior)\n",
    "\n",
    "        posteriors = np.array(posteriors)\n",
    "        posteriors_sums = np.sum(posteriors, axis = 0)\n",
    "        \n",
    "        for j in range(n):\n",
    "            posteriors[:,j] /= posteriors_sums[j]\n",
    "\n",
    "        # Maximization step\n",
    "\n",
    "        for i in range(k):\n",
    "            sum_posteriors_i = 0\n",
    "            mu[i] = np.zeros(shape = d)\n",
    "        \n",
    "            for j in range(n):\n",
    "                mu[i] += posteriors[i][j] * D[j]\n",
    "                sum_posteriors_i += posteriors[i][j]\n",
    "                \n",
    "            # Calc mean and covariance\n",
    "            mu[i] /= sum_posteriors_i \n",
    "            cov_m[i] = np.zeros(shape = (d,d))\n",
    "            \n",
    "            for j in range(n):\n",
    "                xmu = (D[j] - mu[i]).reshape(-1, 1)\n",
    "                cov_m[i] += posteriors[i][j] * (xmu @ xmu.T)\n",
    "                \n",
    "            cov_m[i] /= sum_posteriors_i\n",
    "            priors[i] = sum_posteriors_i / n\n",
    "\n",
    "        diff = [np.square(np.linalg.norm(new_mu - og_mu)) for og_mu, new_mu in zip(original_mu, mu)]      \n",
    "        stop = np.sum(diff)\n",
    "        \n",
    "        if stop <= eps:\n",
    "            break\n",
    "    \n",
    "    return posteriors,t"
   ]
  },
  {
   "cell_type": "markdown",
   "metadata": {},
   "source": [
    "<hr>\n",
    "\n",
    "## Problem 2: Analysis of the EM over Real-world Data Sets\n",
    "\n",
    "Run your EM program, Gk, against the Ringnorm and Ionosphere data sets. Discuss your\n",
    "results.\n",
    "\n",
    "• Ringnorm Data Set\n",
    "\n",
    "• Ionosphere Data Se"
   ]
  },
  {
   "cell_type": "markdown",
   "metadata": {},
   "source": [
    " - In this problem I have run the EM algorithm implmented in Problem 1,  20 times for **clusters k = 2, 3, 4, 5.**\n",
    " - To calculate the error rates we have first extracted the good and bad labels from the dataset and added their respective errors for each cluster.\n",
    " - We report the total error rates and calculate the whisker plot having the **Number of clusters on the y-axis and the iteration counts on the x axis.**"
   ]
  },
  {
   "cell_type": "code",
   "execution_count": 26,
   "metadata": {},
   "outputs": [],
   "source": [
    "def get_em_preds(posteriors, k_clusters, labels):\n",
    "    \n",
    "    predictions = np.argmax(posteriors, axis = 0)\n",
    "    total_error = 0\n",
    "\n",
    "    for k in range(k_clusters):\n",
    "        prediction_indices = np.where(predictions == k)\n",
    "        specific_labels = labels[prediction_indices]\n",
    "        \n",
    "        #classifying 1 as good and 0 as bad labels\n",
    "        good_labels = specific_labels[specific_labels == 1]\n",
    "        bad_labels = specific_labels[specific_labels == 0]\n",
    "        \n",
    "        n_good_labels = len(good_labels)\n",
    "        n_bad_labels = len(bad_labels)\n",
    "        \n",
    "        if n_good_labels > n_bad_labels:\n",
    "            cluster_label = 'g'\n",
    "        else:\n",
    "            cluster_label = 'b'\n",
    "            \n",
    "        # Calc the error rate  \n",
    "        if cluster_label == 'g':\n",
    "            error = n_bad_labels/ (n_bad_labels + n_good_labels)\n",
    "        else:\n",
    "            error = n_good_labels/ (n_bad_labels + n_good_labels)\n",
    "        \n",
    "        total_error += error\n",
    "    \n",
    "    print(f'Total error = {total_error}')\n",
    "    return total_error"
   ]
  },
  {
   "cell_type": "code",
   "execution_count": 27,
   "metadata": {},
   "outputs": [],
   "source": [
    "def whiskerplot(k, iter_count, error_rate):\n",
    "    sns.set_theme(style='darkgrid')\n",
    "    sns.set(rc={'figure.figsize':(12, 12)})\n",
    "    error_rate = np.array(error_rate)\n",
    "    ax = sns.boxplot(data=error_rate.reshape(20,4), orient='h', width=0.3, palette='pastel')\n",
    "    ax.set(xlabel=\"Error rate with respect to Number of Iterations\")\n",
    "    #ax.set(xlabel=\"Number of Iterations\")\n",
    "    ax.set(ylabel='K clusters')\n",
    "    ax.set(yticklabels = k)"
   ]
  },
  {
   "cell_type": "markdown",
   "metadata": {},
   "source": [
    "## Ringnorm dataset"
   ]
  },
  {
   "cell_type": "code",
   "execution_count": 88,
   "metadata": {
    "scrolled": true
   },
   "outputs": [
    {
     "name": "stdout",
     "output_type": "stream",
     "text": [
      "\n",
      "=========== k = 4 ================\n",
      "Run : 1\n",
      "Total error = 0.16005136454014257\n",
      "Run : 2\n",
      "Total error = 0.029148020399635342\n",
      "Run : 3\n",
      "Total error = 0.03225735521743785\n",
      "Run : 4\n",
      "Total error = 0.05108712296216426\n",
      "Run : 5\n",
      "Total error = 0.03259711287030618\n",
      "Run : 6\n",
      "Total error = 0.037546376250237705\n",
      "Run : 7\n",
      "Total error = 0.035944430350587364\n",
      "Run : 8\n",
      "Total error = 0.37735032867274615\n",
      "Run : 9\n",
      "Total error = 0.041163413007727793\n",
      "Run : 10\n",
      "Total error = 0.03819021120086843\n",
      "Run : 11\n",
      "Total error = 0.048285076638656346\n",
      "Run : 12\n",
      "Total error = 0.04280924536536234\n",
      "Run : 13\n",
      "Total error = 0.03731891257069645\n",
      "Run : 14\n",
      "Total error = 0.04267280386280237\n",
      "Run : 15\n",
      "Total error = 0.07860155948602855\n",
      "Run : 16\n",
      "Total error = 0.4962634305630263\n",
      "Run : 17\n",
      "Total error = 0.061178174247158844\n",
      "Run : 18\n",
      "Total error = 0.03393819661379627\n",
      "Run : 19\n",
      "Total error = 0.039674647517606805\n",
      "Run : 20\n",
      "Total error = 0.05645032165332198\n",
      "\n",
      "=========== k = 5 ================\n",
      "Run : 1\n",
      "Total error = 0.03368423731585257\n",
      "Run : 2\n",
      "Total error = 0.03703957227143213\n",
      "Run : 3\n",
      "Total error = 0.24186977785015096\n",
      "Run : 4\n",
      "Total error = 0.0324999857374047\n",
      "Run : 5\n",
      "Total error = 0.04254108457554877\n",
      "Run : 6\n",
      "Total error = 0.21702473486737722\n",
      "Run : 7\n",
      "Total error = 0.03935711172232578\n",
      "Run : 8\n",
      "Total error = 0.04880692206414984\n",
      "Run : 9\n",
      "Total error = 0.03794642131378082\n",
      "Run : 10\n",
      "Total error = 0.038123195027205146\n",
      "Run : 11\n",
      "Total error = 0.07817121013558098\n",
      "Run : 12\n",
      "Total error = 0.03451750137523618\n",
      "Run : 13\n",
      "Total error = 0.04287866277590738\n",
      "Run : 14\n",
      "Total error = 0.0994459371506274\n",
      "Run : 15\n",
      "Total error = 0.13226145544998733\n",
      "Run : 16\n",
      "Total error = 0.10669437953767838\n",
      "Run : 17\n",
      "Total error = 0.1409540863927947\n",
      "Run : 18\n",
      "Total error = 0.03973376467648907\n",
      "Run : 19\n",
      "Total error = 0.04771112711314149\n",
      "Run : 20\n",
      "Total error = 0.03480386312166883\n"
     ]
    }
   ],
   "source": [
    "file_name = 'ringnorm.data'\n",
    "data = np.genfromtxt(file_name)\n",
    "labels = data[:,-1]\n",
    "features = data[:,:-1]\n",
    "clusters = [4, 5]\n",
    "\n",
    "total_rate_k = []\n",
    "total_iter = []\n",
    "runs = 20\n",
    "eps = 10e-2\n",
    "\n",
    "#Running the EM algorithm with k = 2,3,4,5 where we do 20 runs for each k\n",
    "for k in clusters:\n",
    "    error_rate = [0]*runs\n",
    "    iter_count = [0]*runs\n",
    "    print(f'\\n=========== k = {k} ================')\n",
    "    for i in range(runs):\n",
    "        print(f'Run : {i+1}')\n",
    "        posteriors,iter_count[i] = em(features, k, eps)\n",
    "        error_rate[i] = get_em_preds(posteriors, k, labels)\n",
    "    \n",
    "    total_rate_k.append(error_rate)\n",
    "    total_iter.append(iter_count)"
   ]
  },
  {
   "cell_type": "code",
   "execution_count": 90,
   "metadata": {
    "scrolled": true
   },
   "outputs": [
    {
     "name": "stdout",
     "output_type": "stream",
     "text": [
      "\n",
      "=========== k = 2 ================\n",
      "Run : 1\n",
      "Total error = 0.06073965417722237\n",
      "Run : 2\n",
      "Total error = 0.02928362573099415\n",
      "Run : 3\n",
      "Total error = 0.05032305365898364\n",
      "Run : 4\n",
      "Total error = 0.05310294170615304\n",
      "Run : 5\n",
      "Total error = 0.08900268227261643\n",
      "Run : 6\n",
      "Total error = 0.03645677819735956\n",
      "Run : 7\n",
      "Total error = 0.045498462098218076\n",
      "Run : 8\n",
      "Total error = 0.029761872114813293\n",
      "Run : 9\n",
      "Total error = 0.06988244240124962\n",
      "Run : 10\n",
      "Total error = 0.02972759259605847\n",
      "Run : 11\n",
      "Total error = 0.04972280250476758\n",
      "Run : 12\n",
      "Total error = 0.04333422006489938\n",
      "Run : 13\n",
      "Total error = 0.039414266349744695\n",
      "Run : 14\n",
      "Total error = 0.03448326321565758\n",
      "Run : 15\n",
      "Total error = 0.03945765634077322\n",
      "Run : 16\n",
      "Total error = 0.748081808615219\n",
      "Run : 17\n",
      "Total error = 0.045743730539820684\n",
      "Run : 18\n",
      "Total error = 0.03920828996397638\n",
      "Run : 19\n",
      "Total error = 0.03473535433266173\n",
      "Run : 20\n",
      "Total error = 0.0399120757090697\n",
      "\n",
      "=========== k = 3 ================\n",
      "Run : 1\n",
      "Total error = 0.035533051565631794\n",
      "Run : 2\n",
      "Total error = 0.04213707572183492\n",
      "Run : 3\n",
      "Total error = 0.050367978040934014\n",
      "Run : 4\n",
      "Total error = 0.0377339882161054\n",
      "Run : 5\n",
      "Total error = 0.033783215111718584\n",
      "Run : 6\n",
      "Total error = 1.1668076108862704\n",
      "Run : 7\n",
      "Total error = 0.028985949611417205\n",
      "Run : 8\n",
      "Total error = 0.04331450558896923\n",
      "Run : 9\n",
      "Total error = 0.03451487154949795\n",
      "Run : 10\n",
      "Total error = 0.04888519094160357\n",
      "Run : 11\n",
      "Total error = 0.03785821937107248\n",
      "Run : 12\n",
      "Total error = 0.03758175217836747\n",
      "Run : 13\n",
      "Total error = 0.04427870895791649\n",
      "Run : 14\n",
      "Total error = 0.032315195833080526\n",
      "Run : 15\n",
      "Total error = 0.05366629242514301\n",
      "Run : 16\n",
      "Total error = 0.04290712767818077\n",
      "Run : 17\n",
      "Total error = 0.04867642256204235\n",
      "Run : 18\n",
      "Total error = 0.03033673581486573\n",
      "Run : 19\n",
      "Total error = 0.048508160511727134\n",
      "Run : 20\n",
      "Total error = 0.04642037219201361\n"
     ]
    }
   ],
   "source": [
    "clusters = [2, 3]\n",
    "for k in clusters:\n",
    "    error_rate = [0]*runs\n",
    "    iter_count = [0]*runs\n",
    "    print(f'\\n=========== k = {k} ================')\n",
    "    for i in range(runs):\n",
    "        print(f'Run : {i+1}')\n",
    "        posteriors,iter_count[i] = em(features, k, eps)\n",
    "        error_rate[i] = get_em_preds(posteriors, k, labels)\n",
    "    \n",
    "    total_rate_k.append(error_rate)\n",
    "    total_iter.append(iter_count)"
   ]
  },
  {
   "cell_type": "markdown",
   "metadata": {},
   "source": [
    "## Whisker plot for Ringnorm dataset"
   ]
  },
  {
   "cell_type": "code",
   "execution_count": 114,
   "metadata": {},
   "outputs": [
    {
     "data": {
      "image/png": "[encoded data removed]",
      "text/plain": [
       "<Figure size 864x864 with 1 Axes>"
      ]
     },
     "metadata": {},
     "output_type": "display_data"
    }
   ],
   "source": [
    "clusters = [4,5,2,3]\n",
    "whiskerplot(clusters, total_iter, total_rate_k)"
   ]
  },
  {
   "cell_type": "markdown",
   "metadata": {},
   "source": [
    "##  Ionosphere dataset"
   ]
  },
  {
   "cell_type": "code",
   "execution_count": 28,
   "metadata": {
    "scrolled": true
   },
   "outputs": [],
   "source": [
    "file_name = 'ionosphere.data'\n",
    "data = pd.read_csv(file_name, header = None)\n",
    "labels = data.iloc[:,0:2]\n",
    "gb = data.iloc[:,-1]\n",
    "features_io = data.iloc[:,2:-1]\n",
    "features_io.columns = [i for i in range(len(features_io.columns))]"
   ]
  },
  {
   "cell_type": "code",
   "execution_count": 29,
   "metadata": {},
   "outputs": [],
   "source": [
    "def get_em_preds_io(posteriors, k_clusters, labels):\n",
    "    \n",
    "    predictions = np.argmax(posteriors, axis = 0)\n",
    "    total_error = 0\n",
    "    for k in range(k_clusters):\n",
    "        prediction_indices = np.where(predictions == k)\n",
    "        \n",
    "        # assign labels\n",
    "        specific_labels = labels[prediction_indices]\n",
    "        good_labels = specific_labels[specific_labels == 1]\n",
    "        bad_labels = specific_labels[specific_labels == 0]\n",
    "        \n",
    "        n_good_labels = len(good_labels)\n",
    "        n_bad_labels = len(bad_labels)\n",
    "        \n",
    "        if n_good_labels > n_bad_labels:\n",
    "            cluster_label = 'g'\n",
    "        else:\n",
    "            cluster_label = 'b'\n",
    "            \n",
    "        # Calc the error rate  \n",
    "        if cluster_label == 'g':\n",
    "            error = n_bad_labels/ (n_bad_labels + n_good_labels)\n",
    "        else:\n",
    "            error = n_good_labels/ (n_bad_labels + n_good_labels)\n",
    "        \n",
    "        total_error += error\n",
    "    \n",
    "    print(f'Total error = {total_error}')\n",
    "    return total_error"
   ]
  },
  {
   "cell_type": "code",
   "execution_count": 32,
   "metadata": {},
   "outputs": [
    {
     "data": {
      "text/plain": [
       "0      1\n",
       "1      0\n",
       "2      1\n",
       "3      0\n",
       "4      1\n",
       "      ..\n",
       "346    1\n",
       "347    1\n",
       "348    1\n",
       "349    1\n",
       "350    1\n",
       "Name: 0, Length: 351, dtype: int64"
      ]
     },
     "execution_count": 32,
     "metadata": {},
     "output_type": "execute_result"
    }
   ],
   "source": [
    "labels = [1 if x == 'g' else 0 for x in gb]\n",
    "labels_df = pd.DataFrame(labels)\n",
    "labels = labels_df.squeeze()"
   ]
  },
  {
   "cell_type": "code",
   "execution_count": 34,
   "metadata": {},
   "outputs": [
    {
     "name": "stdout",
     "output_type": "stream",
     "text": [
      "\n",
      "=========== k = 2 ================\n",
      "Run : 1\n",
      "Total error = 0.34782608695652173\n",
      "Run : 2\n",
      "Total error = 0.5791504424778761\n",
      "Run : 3\n",
      "Total error = 0.41309754075711524\n",
      "Run : 4\n",
      "Total error = 0.3181818181818182\n",
      "Run : 5\n",
      "Total error = 0.7378576669112252\n",
      "Run : 6\n",
      "Total error = 0.690644932671864\n",
      "Run : 7\n",
      "Total error = 0.7271493212669684\n",
      "Run : 8\n",
      "Total error = 0.6981886957154289\n",
      "Run : 9\n",
      "Total error = 0.24761904761904763\n",
      "Run : 10\n",
      "Total error = 0.4992839240959542\n",
      "Run : 11\n",
      "Total error = 0.6766938274360979\n",
      "Run : 12\n",
      "Total error = 0.7399753531140393\n",
      "Run : 13\n",
      "Total error = 0.6561904761904762\n",
      "Run : 14\n",
      "Total error = 0.5909090909090909\n",
      "Run : 15\n",
      "Total error = 0.21408450704225354\n",
      "Run : 16\n",
      "Total error = 0.5779409902494619\n",
      "Run : 17\n",
      "Total error = 0.17208299248903103\n",
      "Run : 18\n",
      "Total error = 0.5721800116890707\n",
      "Run : 19\n",
      "Total error = 0.47728018911287673\n",
      "Run : 20\n",
      "Total error = 0.3959509202453988\n",
      "\n",
      "=========== k = 3 ================\n",
      "Run : 1\n",
      "Total error = 0.7024560080442434\n",
      "Run : 2\n",
      "Total error = 0.3830392156862745\n",
      "Run : 3\n",
      "Total error = 0.3551626267160438\n",
      "Run : 4\n",
      "Total error = 0.6819273227175505\n",
      "Run : 5\n",
      "Total error = 0.8169318512060448\n",
      "Run : 6\n",
      "Total error = 1.0629629629629629\n",
      "Run : 7\n",
      "Total error = 0.3624545451976843\n",
      "Run : 8\n",
      "Total error = 0.5117188121964812\n",
      "Run : 9\n",
      "Total error = 0.8313131848709792\n",
      "Run : 10\n",
      "Total error = 0.7526951139531071\n",
      "Run : 11\n",
      "Total error = 0.6016120282104936\n",
      "Run : 12\n",
      "Total error = 1.0212069607790963\n",
      "Run : 13\n",
      "Total error = 0.7813115090092477\n",
      "Run : 14\n",
      "Total error = 0.8135234548140853\n",
      "Run : 15\n",
      "Total error = 0.33513599261630755\n",
      "Run : 16\n",
      "Total error = 1.045782672852046\n",
      "Run : 17\n",
      "Total error = 0.5099522957662492\n",
      "Run : 18\n",
      "Total error = 0.3538035119200205\n",
      "Run : 19\n",
      "Total error = 0.9245697625384177\n",
      "Run : 20\n",
      "Total error = 0.5573443223443223\n",
      "\n",
      "=========== k = 4 ================\n",
      "Run : 1\n",
      "Total error = 0.6047690817755056\n",
      "Run : 2\n",
      "Total error = 0.9039710913773882\n",
      "Run : 3\n",
      "Total error = 0.8517050298380222\n",
      "Run : 4\n",
      "Total error = 0.5969894740842073\n",
      "Run : 5\n",
      "Total error = 0.7467322160870549\n",
      "Run : 6\n",
      "Total error = 0.6901347114156311\n",
      "Run : 7\n",
      "Total error = 0.5855569155446756\n",
      "Run : 8\n",
      "Total error = 1.0854821722041508\n",
      "Run : 9\n",
      "Total error = 0.42180322075824117\n",
      "Run : 10\n",
      "Total error = 0.8844993551952837\n",
      "Run : 11\n",
      "Total error = 0.8683848766717102\n",
      "Run : 12\n",
      "Total error = 0.7897089761570828\n",
      "Run : 13\n",
      "Total error = 0.9409498547429581\n",
      "Run : 14\n",
      "Total error = 1.287107365178651\n",
      "Run : 15\n",
      "Total error = 0.43194886296689056\n",
      "Run : 16\n",
      "Total error = 0.8413142208934883\n",
      "Run : 17\n",
      "Total error = 0.7739849750325668\n",
      "Run : 18\n",
      "Total error = 0.624819345966316\n",
      "Run : 19\n",
      "Total error = 0.8682713555523053\n",
      "Run : 20\n",
      "Total error = 0.618646408839779\n",
      "\n",
      "=========== k = 5 ================\n",
      "Run : 1\n",
      "Total error = 0.5031434689971275\n",
      "Run : 2\n",
      "Total error = 0.92109905324368\n",
      "Run : 3\n",
      "Total error = 1.2378203553590437\n",
      "Run : 4\n",
      "Total error = 0.9772702485886381\n",
      "Run : 5\n",
      "Total error = 1.1696870352738122\n",
      "Run : 6\n",
      "Total error = 1.0988811494524573\n",
      "Run : 7\n",
      "Total error = 0.9510380444815679\n",
      "Run : 8\n",
      "Total error = 0.5018010575016524\n",
      "Run : 9\n",
      "Total error = 1.026285891527827\n",
      "Run : 10\n",
      "Total error = 0.7921753586449033\n",
      "Run : 11\n",
      "Total error = 0.6864321439988297\n",
      "Run : 12\n",
      "Total error = 1.3218567799433616\n",
      "Run : 13\n",
      "Total error = 1.309623161773139\n",
      "Run : 14\n",
      "Total error = 0.8137471888861252\n",
      "Run : 15\n",
      "Total error = 0.7861141371604276\n",
      "Run : 16\n",
      "Total error = 0.6505393974333885\n",
      "Run : 17\n",
      "Total error = 0.6215121953036534\n",
      "Run : 18\n",
      "Total error = 1.098830665967829\n",
      "Run : 19\n",
      "Total error = 1.1444209617880134\n",
      "Run : 20\n",
      "Total error = 0.8210437710437711\n"
     ]
    }
   ],
   "source": [
    "total_rate_k_io = []\n",
    "total_iter_io = []\n",
    "runs = 20\n",
    "eps = 10e-2\n",
    "clusters = [2,3,4,5]\n",
    "#Running the EM algorithm with k = 2,3 where we do 20 runs for each k\n",
    "for k in clusters:\n",
    "    error_rate = [0]*runs\n",
    "    iter_count = [0]*runs\n",
    "    print(f'\\n=========== k = {k} ================')\n",
    "    for i in range(runs):\n",
    "        print(f'Run : {i+1}')\n",
    "        posteriors,iter_count[i] = em(np.array(features_io), k, eps)\n",
    "        error_rate[i] = get_em_preds_io(posteriors, k, np.array(labels))\n",
    "    \n",
    "    total_rate_k_io.append(error_rate)\n",
    "    total_iter_io.append(iter_count)"
   ]
  },
  {
   "cell_type": "markdown",
   "metadata": {},
   "source": [
    "## Whisker plot for Ionosphere dataset"
   ]
  },
  {
   "cell_type": "code",
   "execution_count": 35,
   "metadata": {},
   "outputs": [
    {
     "data": {
      "image/png": "[encoded data removed]",
      "text/plain": [
       "<Figure size 864x864 with 1 Axes>"
      ]
     },
     "metadata": {},
     "output_type": "display_data"
    }
   ],
   "source": [
    "whiskerplot(clusters, total_iter_io, total_rate_k_io)"
   ]
  },
  {
   "cell_type": "markdown",
   "metadata": {},
   "source": [
    "<hr>\n",
    "\n",
    "# Problem 3:  Algorithm Design"
   ]
  },
  {
   "cell_type": "markdown",
   "metadata": {},
   "source": [
    "## Problem 3.1\n",
    "\n",
    "**Given a text D and a pattern P, describe an Ω(d+p) time method for finding the longest prefix\n",
    "of P that is a substring of D. The lengths of D and P are d and p, respectively**"
   ]
  },
  {
   "cell_type": "markdown",
   "metadata": {},
   "source": [
    "For Knuth-Morris-Pratt alogrithm:\n",
    "* The code calculates the kmp_fail array with size same as the pattern\n",
    "* The code start the comparison from first index of text and pattern till the last.\n",
    "* Where there is character mismatch in text and pattern, code checks the failure array and look for the prefix index such that the patter aligns with the mismatch character in the text\n",
    "* Time complexity of O(n+m)"
   ]
  },
  {
   "cell_type": "code",
   "execution_count": 1,
   "metadata": {},
   "outputs": [],
   "source": [
    "def compute_kmp_fail(P):\n",
    "    m = len(P)\n",
    "    fail = [0] * m\n",
    "    j = 1\n",
    "    k = 0\n",
    "    while j < m:\n",
    "        if P[j] == P[k]:\n",
    "            fail[j] = k+1\n",
    "            j += 1\n",
    "            k += 1\n",
    "        elif k > 0:\n",
    "            k = fail[k-1]\n",
    "        else:\n",
    "            j += 1\n",
    "    return (fail)\n",
    "\n",
    "def findMatchingPrefix(T, P):\n",
    "    n, m = len(T), len(P)\n",
    "    count = 0\n",
    "    if m == 0:\n",
    "        return 0\n",
    "    fail = compute_kmp_fail(P)\n",
    "    j = 0\n",
    "    k = 0\n",
    "    count = 0\n",
    "    while j < n:\n",
    "        if T[j] == P[k]:\n",
    "            if k == m-1:\n",
    "                return (m, P)\n",
    "            j += 1\n",
    "            k += 1\n",
    "            count = k\n",
    "        elif k > 0:\n",
    "            k = fail[k-1]\n",
    "        else:\n",
    "            j += 1\n",
    "    if count == 0:\n",
    "        return (-1,'')\n",
    "    else:\n",
    "        return (count, P[0:count])"
   ]
  },
  {
   "cell_type": "code",
   "execution_count": 20,
   "metadata": {},
   "outputs": [
    {
     "name": "stdout",
     "output_type": "stream",
     "text": [
      "The longest prefix of pattern- 'wherever' available in text- 'somewhere' is 'where'\n"
     ]
    }
   ],
   "source": [
    "Text = \"somewhere\"\n",
    "Pattern = \"wherever\"\n",
    "T,P = findMatchingPrefix(Text, Pattern)\n",
    "\n",
    "print(f\"The longest prefix of pattern- '{Pattern}' available in text- '{Text}' is '{P}'\")"
   ]
  },
  {
   "cell_type": "markdown",
   "metadata": {},
   "source": [
    "## Problem 3.2"
   ]
  },
  {
   "cell_type": "markdown",
   "metadata": {},
   "source": [
    "**X, Y, and Z are three arrays and each has m elements. For an arbitrary integer t, describe O(m2logm)-time algorithm to determine if there exist numbers, x in X, y in Y, and z in Z, such that t = x+y+z.**\n",
    "\n",
    "Steps:\n",
    "\n",
    "> &nbsp;&nbsp;Sort the array $z$  \n",
    "> &nbsp;&nbsp;For each element in $x$  \n",
    "> &nbsp;&nbsp;&nbsp;&nbsp; &nbsp;   For each element in $y$  \n",
    "> &nbsp;&nbsp;&nbsp;&nbsp; &nbsp;&nbsp;&nbsp;  &nbsp;&nbsp;    Calc $zVal$ such that $zVal = t - (x + y)$  \n",
    "> &nbsp;&nbsp;&nbsp;&nbsp; &nbsp; &nbsp;&nbsp; &nbsp;&nbsp;    Search $zVal$ in $z$  \n",
    "        \n",
    "The time complexity for the algorithm is **$O(m^2logm)$**"
   ]
  },
  {
   "cell_type": "code",
   "execution_count": 3,
   "metadata": {},
   "outputs": [],
   "source": [
    "def findTuple(x, y, z, t):\n",
    "    z.sort()\n",
    "    res = []\n",
    "\n",
    "    for i in x:\n",
    "        for j in y:\n",
    "            l = 0\n",
    "            h = len(z) - 1\n",
    "            zVal = t - (i+j)\n",
    "            while l <= h:\n",
    "                m = (l + h) // 2\n",
    "                if  z[m] == zVal:\n",
    "                    return (f'There exist a valid tuple in input arrays such that {i} + {j} + {z[m]} = {t}')\n",
    "                elif zVal > z[m]:\n",
    "                    l = m + 1\n",
    "                else:\n",
    "                    h = m - 1\n",
    "    return (f'No valid tuple exist in the input arrays such that x+y+z = {t}')"
   ]
  },
  {
   "cell_type": "code",
   "execution_count": 4,
   "metadata": {},
   "outputs": [
    {
     "name": "stdout",
     "output_type": "stream",
     "text": [
      "There exist a valid tuple in input arrays such that 10 + 90 + 200 = 300\n"
     ]
    }
   ],
   "source": [
    "x = [10, 20, 30, 90]\n",
    "y = [70, 90, 110, 10]\n",
    "z = [200, 300, 100, 100]\n",
    "t = 300\n",
    "\n",
    "print(findTuple(x,y,z,t))"
   ]
  },
  {
   "cell_type": "markdown",
   "metadata": {},
   "source": [
    "## Problem 3.3"
   ]
  },
  {
   "cell_type": "markdown",
   "metadata": {},
   "source": [
    "**Describe an efficient algorithm for deleting a string from a compressed trie and analyze its running time.**"
   ]
  },
  {
   "cell_type": "markdown",
   "metadata": {},
   "source": [
    "Algorithm steps:\n",
    "\n",
    "1. Search the $word$ in trie\n",
    "2. Remove the leaf node corresponding to the word\n",
    "3. Navigate to the $parent$ of the leaf node in context\n",
    "4. If the parent has $one$ remaining child:\n",
    "       Merge the child's value with the parent\n",
    "       \n",
    "The time complexity for the delete operation is $O(word\\_length)$ where *world_length* corresponds to the length of the word."
   ]
  },
  {
   "cell_type": "code",
   "execution_count": null,
   "metadata": {},
   "outputs": [],
   "source": []
  }
 ],
 "metadata": {
  "kernelspec": {
   "display_name": "Python 3",
   "language": "python",
   "name": "python3"
  },
  "language_info": {
   "codemirror_mode": {
    "name": "ipython",
    "version": 3
   },
   "file_extension": ".py",
   "mimetype": "text/x-python",
   "name": "python",
   "nbconvert_exporter": "python",
   "pygments_lexer": "ipython3",
   "version": "3.8.8"
  },
  "toc": {
   "base_numbering": 1,
   "nav_menu": {},
   "number_sections": true,
   "sideBar": true,
   "skip_h1_title": false,
   "title_cell": "Table of Contents",
   "title_sidebar": "Contents",
   "toc_cell": false,
   "toc_position": {},
   "toc_section_display": true,
   "toc_window_display": false
  },
  "varInspector": {
   "cols": {
    "lenName": 16,
    "lenType": 16,
    "lenVar": 40
   },
   "kernels_config": {
    "python": {
     "delete_cmd_postfix": "",
     "delete_cmd_prefix": "del ",
     "library": "var_list.py",
     "varRefreshCmd": "print(var_dic_list())"
    },
    "r": {
     "delete_cmd_postfix": ") ",
     "delete_cmd_prefix": "rm(",
     "library": "var_list.r",
     "varRefreshCmd": "cat(var_dic_list()) "
    }
   },
   "types_to_exclude": [
    "module",
    "function",
    "builtin_function_or_method",
    "instance",
    "_Feature"
   ],
   "window_display": false
  }
 },
 "nbformat": 4,
 "nbformat_minor": 4
}
